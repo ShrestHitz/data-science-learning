{
  "nbformat": 4,
  "nbformat_minor": 0,
  "metadata": {
    "colab": {
      "provenance": [],
      "include_colab_link": true
    },
    "kernelspec": {
      "name": "python3",
      "display_name": "Python 3"
    },
    "language_info": {
      "name": "python"
    }
  },
  "cells": [
    {
      "cell_type": "markdown",
      "metadata": {
        "id": "view-in-github",
        "colab_type": "text"
      },
      "source": [
        "<a href=\"https://colab.research.google.com/github/ShrestHitz/data-science-learning/blob/main/Task_1.ipynb\" target=\"_parent\"><img src=\"https://colab.research.google.com/assets/colab-badge.svg\" alt=\"Open In Colab\"/></a>"
      ]
    },
    {
      "cell_type": "markdown",
      "source": [
        "# Task : Session 1\n",
        "Solve these questions own your own and try to test yourself what you have learned in the session.\n",
        "\n",
        "Happy Learning!"
      ],
      "metadata": {
        "id": "A05OG15VqOPF"
      }
    },
    {
      "cell_type": "markdown",
      "source": [
        "### Q1 :- Print the given strings as per stated format.\n",
        "\n",
        "**Given strings**:\n",
        "```\n",
        "\"Data\" \"Science\" \"Mentorship\" \"Program\"\n",
        "\"By\" \"CampusX\"\n",
        "```\n",
        "**Output**:\n",
        "```\n",
        "Data-Science-Mentorship-Program-started-By-CampusX\n",
        "```\n",
        "\n",
        "Concept- [Seperator and End]"
      ],
      "metadata": {
        "id": "2doIXf8bqe9_"
      }
    },
    {
      "cell_type": "code",
      "source": [
        "# Write your code here\n",
        "print('Data','Science','Mentorship','Program','stared','By','CampusX',sep='-')"
      ],
      "metadata": {
        "id": "-em6d3KErDtp",
        "colab": {
          "base_uri": "https://localhost:8080/"
        },
        "outputId": "a2db4159-238d-4215-bfb6-0c4529297d70"
      },
      "execution_count": 1,
      "outputs": [
        {
          "output_type": "stream",
          "name": "stdout",
          "text": [
            "Data-Science-Mentorship-Program-stared-By-CampusX\n"
          ]
        }
      ]
    },
    {
      "cell_type": "markdown",
      "source": [
        "### Q2:- Write a program that will convert celsius value to fahrenheit."
      ],
      "metadata": {
        "id": "1KUpN7ZTrC3_"
      }
    },
    {
      "cell_type": "code",
      "source": [
        "# Write your code here\n",
        "celsius = float(input(\"Enter temperature in Celsius: \"))\n",
        "\n",
        "fahrenheit = (celsius * 9/5) + 32\n",
        "\n",
        "print(f\"{celsius}°C is equal to {fahrenheit}°F\")\n"
      ],
      "metadata": {
        "id": "yxKYhYQiqWfj",
        "colab": {
          "base_uri": "https://localhost:8080/"
        },
        "outputId": "96f36306-62d2-4bd6-fedf-127b2bcad519"
      },
      "execution_count": 3,
      "outputs": [
        {
          "output_type": "stream",
          "name": "stdout",
          "text": [
            "Enter temperature in Celsius: 100\n",
            "100.0°C is equal to 212.0°F\n"
          ]
        }
      ]
    },
    {
      "cell_type": "markdown",
      "source": [
        "### Q3:- Take 2 numbers as input from the user.Write a program to swap the numbers without using any special python syntax."
      ],
      "metadata": {
        "id": "RLrOBBJurLB2"
      }
    },
    {
      "cell_type": "code",
      "source": [
        "# Write your code here\n",
        "num1 = int(input(\"Enter the 1st no: \"))\n",
        "num2 = int(input(\"Enter the 2nd no: \"))\n",
        "\n",
        "temp = num1\n",
        "num1 = num2\n",
        "num2 = temp\n",
        "\n",
        "print('The swapped nos: ')\n",
        "print('num1: ',num1)\n",
        "print('num2: ',num2)\n"
      ],
      "metadata": {
        "id": "yPn7if0TrJ4F",
        "colab": {
          "base_uri": "https://localhost:8080/"
        },
        "outputId": "0af47703-e1f0-4802-fca7-9e67b6a56537"
      },
      "execution_count": 7,
      "outputs": [
        {
          "output_type": "stream",
          "name": "stdout",
          "text": [
            "Enter the 1st no: 2\n",
            "Enter the 2nd no: 4\n",
            "The swapped nos: \n",
            "num1:  4\n",
            "num2:  2\n"
          ]
        }
      ]
    },
    {
      "cell_type": "markdown",
      "source": [
        "### Q4:- Write a program to find the euclidean distance between two coordinates.Take both the coordinates from the user as input."
      ],
      "metadata": {
        "id": "waLCP1bjr7ML"
      }
    },
    {
      "cell_type": "code",
      "source": [
        "# Write your code here\n",
        "import math\n",
        "x1 = int(input(\"Enter x1 coordinate: \"))\n",
        "y1 = int(input(\"Enter y1 coordinate: \"))\n",
        "\n",
        "x2 = int(input(\"Enter x2 coordinate: \"))\n",
        "y2 = int(input(\"Enter y2 coordinate: \"))\n",
        "\n",
        "distance = math.sqrt((x2 - x1)**2 + (y2 - y1)**2)\n",
        "\n",
        "print(\"THe euclidean distance between two coordinates is: \",distance)"
      ],
      "metadata": {
        "id": "Pl1Sv-xnrxnH",
        "colab": {
          "base_uri": "https://localhost:8080/"
        },
        "outputId": "3c3f8a1a-7316-4a7c-c225-c813f0193ec4"
      },
      "execution_count": 9,
      "outputs": [
        {
          "output_type": "stream",
          "name": "stdout",
          "text": [
            "Enter x1 coordinate: 5\n",
            "Enter y1 coordinate: 8\n",
            "Enter x2 coordinate: 6\n",
            "Enter y2 coordinate: 10\n",
            "THe euclidean distance between two coordinates is:  2.23606797749979\n"
          ]
        }
      ]
    },
    {
      "cell_type": "markdown",
      "source": [
        "### Q5:- Write a program to find the simple interest when the value of principle,rate of interest and time period is provided by the user.\n"
      ],
      "metadata": {
        "id": "VLrhg-FRsHjR"
      }
    },
    {
      "cell_type": "code",
      "source": [
        "# Write your code here\n",
        "P = int(input('enter principle: '))\n",
        "R = int(input('enter rate: '))\n",
        "T = int(input('enter time period: '))\n",
        "\n",
        "SI = P*R*T/100\n",
        "\n",
        "print(\"The SI is: \",SI)"
      ],
      "metadata": {
        "id": "s40DlReZsTmY",
        "colab": {
          "base_uri": "https://localhost:8080/"
        },
        "outputId": "fde3eae7-6994-4b8c-e518-47e0c0a9e368"
      },
      "execution_count": 10,
      "outputs": [
        {
          "output_type": "stream",
          "name": "stdout",
          "text": [
            "enter principle: 1000\n",
            "enter rate: 5\n",
            "enter time period: 2\n",
            "The SI is:  100.0\n"
          ]
        }
      ]
    },
    {
      "cell_type": "markdown",
      "source": [
        "### Q6:- Write a program that will tell the number of dogs and chicken are there when the user will provide the value of total heads and legs.\n",
        "\n",
        "For example:\n",
        "Input:\n",
        "heads -> 4\n",
        "legs -> 12\n",
        "<br>\n",
        "Output:\n",
        "dogs -> 2\n",
        "chicken -> 2\n",
        "\n",
        "\n",
        "\n"
      ],
      "metadata": {
        "id": "LMy0BTUktYKa"
      }
    },
    {
      "cell_type": "code",
      "source": [
        "# Write your code here\n",
        "heads = int(input(\"Enter total number of heads: \"))\n",
        "legs = int(input(\"Enter total number of legs: \"))\n",
        "\n",
        "found = False\n",
        "\n",
        "for chickens in range(heads + 1):\n",
        "    dogs = heads - chickens\n",
        "    total_legs = (2 * chickens) + (4 * dogs)\n",
        "\n",
        "    if total_legs == legs:\n",
        "        print(\"Chickens:\", chickens)\n",
        "        print(\"Dogs:\", dogs)\n",
        "        found = True\n",
        "        break\n",
        "\n",
        "if not found:\n",
        "    print(\"No valid solution found.\")"
      ],
      "metadata": {
        "id": "XSBvJoA4tXaG",
        "colab": {
          "base_uri": "https://localhost:8080/"
        },
        "outputId": "98e98902-4d08-4be8-d93a-5eaf9d7db268"
      },
      "execution_count": 16,
      "outputs": [
        {
          "output_type": "stream",
          "name": "stdout",
          "text": [
            "Enter total number of heads: 4\n",
            "Enter total number of legs: 12\n",
            "Chickens: 2\n",
            "Dogs: 2\n"
          ]
        }
      ]
    },
    {
      "cell_type": "markdown",
      "source": [
        "### Q7:- Write a program to find the sum of squares of first n natural numbers where n will be provided by the user."
      ],
      "metadata": {
        "id": "gJ7C5kZYt4BP"
      }
    },
    {
      "cell_type": "code",
      "source": [
        "# Write your code here\n",
        "n = int(input(\"Enter the no: \"))\n",
        "\n",
        "result = (n*(n+1)*(2*n+1))/6\n",
        "print(result)"
      ],
      "metadata": {
        "id": "_tHsmEHzt2nX",
        "colab": {
          "base_uri": "https://localhost:8080/"
        },
        "outputId": "19ab01e9-1c22-48ed-d017-325e826ba71b"
      },
      "execution_count": 15,
      "outputs": [
        {
          "output_type": "stream",
          "name": "stdout",
          "text": [
            "Enter the no: 5\n",
            "55.0\n"
          ]
        }
      ]
    },
    {
      "cell_type": "markdown",
      "source": [
        "### Q8:- Given the first 2 terms of an Arithmetic Series.Find the Nth term of the series. Assume all inputs are provided by the user."
      ],
      "metadata": {
        "id": "FHrMM7g-yG1h"
      }
    },
    {
      "cell_type": "code",
      "source": [
        "# Write your code here\n",
        "first = int(input(\"Enter 1st: \"))\n",
        "second = int(input(\"Enter 2nd: \"))\n",
        "n = int(input(\"enter n: \"))\n",
        "\n",
        "d = second - first\n",
        "\n",
        "an = first + (n-1)*d\n",
        "\n",
        "print(an)"
      ],
      "metadata": {
        "id": "go4_kmZmyVSx",
        "colab": {
          "base_uri": "https://localhost:8080/"
        },
        "outputId": "a12c807b-d9ec-49a5-901c-651ddb983d4b"
      },
      "execution_count": 17,
      "outputs": [
        {
          "output_type": "stream",
          "name": "stdout",
          "text": [
            "Enter 1st: 3\n",
            "Enter 2nd: 6\n",
            "enter n: 5\n",
            "15\n"
          ]
        }
      ]
    },
    {
      "cell_type": "markdown",
      "source": [
        "### Q9:- Given 2 fractions, find the sum of those 2 fractions.Take the numerator and denominator values of the fractions from the user."
      ],
      "metadata": {
        "id": "QgyRX_es1oum"
      }
    },
    {
      "cell_type": "code",
      "source": [
        "# Write your code here\n",
        "n1 = int(input('num1'))\n",
        "d1 = int(input('den1'))\n",
        "n2 = int(input('num2'))\n",
        "d2 = int(input('den2'))\n",
        "\n",
        "rn = n1*d2 + n2*d1\n",
        "rd = d1*d2\n",
        "\n",
        "print('{}/{}'.format(rn,rd))"
      ],
      "metadata": {
        "id": "X05xqFS1yW16",
        "colab": {
          "base_uri": "https://localhost:8080/"
        },
        "outputId": "432b7f6d-7e30-411f-86ca-989fe94391f4"
      },
      "execution_count": 19,
      "outputs": [
        {
          "output_type": "stream",
          "name": "stdout",
          "text": [
            "num13\n",
            "den17\n",
            "num22\n",
            "den211\n",
            "47/77\n"
          ]
        }
      ]
    },
    {
      "cell_type": "markdown",
      "source": [
        "### Q10:- Given the height, width and breadth of a milk tank, you have to find out how many glasses of milk can be obtained? Assume all the inputs are provided by the user.\n",
        "\n",
        "\n",
        "\n",
        "Input:<br>\n",
        "Dimensions of the milk tank<br>\n",
        "H = 20cm, L = 20cm, B = 20cm\n",
        "<br><br>\n",
        "Dimensions of the glass<br>\n",
        "h = 3cm, r = 1cm"
      ],
      "metadata": {
        "id": "eaql38ln13u7"
      }
    },
    {
      "cell_type": "code",
      "source": [
        "# Write your code here\n",
        "import math\n",
        "\n",
        "h_t = float(input('height: '))\n",
        "b_t = float(input('breadth: '))\n",
        "l_t = float(input('length: '))\n",
        "\n",
        "h_g = float(input('height of glass: '))\n",
        "r_g = float(input('radius of the glass: '))\n",
        "\n",
        "vol_tank = h_t * b_t * l_t\n",
        "vol_glass = 3.14 * r_g * r_g * h_g\n",
        "\n",
        "print('no of glasses', math.floor(vol_tank / vol_glass))\n"
      ],
      "metadata": {
        "id": "FePZqno74eWv",
        "colab": {
          "base_uri": "https://localhost:8080/"
        },
        "outputId": "4f1f7aa6-590d-48e1-aff4-fef48d8963ad"
      },
      "execution_count": 20,
      "outputs": [
        {
          "output_type": "stream",
          "name": "stdout",
          "text": [
            "height: 10\n",
            "breadth: 19\n",
            "length: 10\n",
            "height of glass: 5\n",
            "radius of the glass: 2\n",
            "no of glasses 30\n"
          ]
        }
      ]
    },
    {
      "cell_type": "code",
      "source": [],
      "metadata": {
        "id": "PxNCuYwq-sUC"
      },
      "execution_count": null,
      "outputs": []
    }
  ]
}